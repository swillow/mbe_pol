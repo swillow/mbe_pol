{
 "cells": [
  {
   "cell_type": "markdown",
   "metadata": {},
   "source": [
    "In mbe_pol, the potential energy is dfined as"
   ]
  },
  {
   "cell_type": "markdown",
   "metadata": {},
   "source": [
    "\\begin{eqnarray*}\n",
    "E = E_\\mathrm{MBE(2)} + \\kappa E_\\mathrm{pol},\n",
    "\\end{eqnarray*}\n",
    "where $\\kappa$ is the scaling factor. \n",
    "$E_\\mathrm{MBE(2)}$ is the potential energy of the second-order many-body expansion:"
   ]
  },
  {
   "cell_type": "markdown",
   "metadata": {},
   "source": [
    "\\begin{equation*}\n",
    "E_\\mathrm{MBE(2)}  =  \\sum_I \\{ E_{I} - E_I^\\mathrm{min}\\} +  \\sum_{I > J}  \\{ E_{IJ} - E_{I} - E_{J}\\}\n",
    "\\end{equation*}"
   ]
  },
  {
   "cell_type": "markdown",
   "metadata": {},
   "source": [
    "$E_\\mathrm{pol}$ is the polarization energy: "
   ]
  },
  {
   "cell_type": "markdown",
   "metadata": {},
   "source": [
    "\\begin{aligned}\n",
    "E_\\mathrm{pol} & = \\sum_I E_I^\\mathrm{pol} \\\\\n",
    "E_I^\\mathrm{pol} & = \\langle \\Psi_{I:Q_I} | \\hat{H}_{I:Q_I} | \\Psi_{I:Q_I} \\rangle -\n",
    "\\langle \\Psi_I | \\hat{H}_{I:Q_I} | \\Psi_I \\rangle\n",
    "\\end{aligned}"
   ]
  },
  {
   "cell_type": "code",
   "execution_count": null,
   "metadata": {},
   "outputs": [],
   "source": []
  }
 ],
 "metadata": {
  "kernelspec": {
   "display_name": "Python 3",
   "language": "python",
   "name": "python3"
  },
  "language_info": {
   "codemirror_mode": {
    "name": "ipython",
    "version": 3
   },
   "file_extension": ".py",
   "mimetype": "text/x-python",
   "name": "python",
   "nbconvert_exporter": "python",
   "pygments_lexer": "ipython3",
   "version": "3.7.3"
  }
 },
 "nbformat": 4,
 "nbformat_minor": 4
}
